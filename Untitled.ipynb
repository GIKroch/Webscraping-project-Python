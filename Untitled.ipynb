{
 "cells": [
  {
   "cell_type": "markdown",
   "metadata": {},
   "source": [
    "Project 6 (Advanced – up to 60%)\n",
    "Public orders – the new database [https://searchbzp.uzp.gov.pl/Search.aspx] and the old one\n",
    "[http://bzp0.portal.uzp.gov.pl/index.php?ogloszenie=browser] offer data on public orders in Poland,\n",
    "they somehow overlap. Scrap the announcements about awarding the contract (ogłoszenie o\n",
    "udzieleniu zamówienia) from those databases meeting the following criteria: archived and current ads\n",
    "since the beginning of 2008 till the end of December 2018 (date of publication), type of the ordering\n",
    "party: all (rodzaj zamawiającego: wszystkie), type of order: construction works (rodzaj zamówienia:\n",
    "roboty budowlane), mode of order: all (tryb zamówienia: wszystkie), type of ad: about the award of\n",
    "the contract (rodzaj ogłoszenia: o udzieleniu zamówienia), voivodship: all. Store the results in a csv\n",
    "\n",
    "file. Extract and label the following information: the name of the ordering organization (nazwa\n",
    "zamawiającego), number of the order (numer zamówienia), type of the order (rodzaj zamówienia),\n",
    "CPV code, tribe of awarding the contract (tryb udzielenia zamówienia), total value of the order\n",
    "(całkowita wartość zamówienia), the value without VAT (wartość bez VAT), number of offers (liczba\n",
    "otrzymanych ofert), price of the selected offer (cena wybranej oferty), value of the contract (wartość\n",
    "umowy), offer with the lowest price/cost (oferta z najniższą ceną/kosztem), offer with the highest\n",
    "price/cost (oferta z najwyższą ceną/kosztem), subcontractors (podwykonawcy), value of the shares of\n",
    "subcontractors (wartość procentowa udziału podwykonawców)."
   ]
  },
  {
   "cell_type": "code",
   "execution_count": 81,
   "metadata": {},
   "outputs": [],
   "source": [
    "from selenium import webdriver\n",
    "from selenium.webdriver.common.keys import Keys\n",
    "from selenium.webdriver.support.ui import Select\n",
    "import time\n",
    "import csv\n",
    "from selenium.webdriver.support.ui import WebDriverWait\n",
    "from selenium.webdriver.support import expected_conditions as EC\n",
    "from selenium.webdriver.common.by import By\n",
    "\n",
    "driver = webdriver.Chrome()\n",
    "driver.get(\"http://bzp0.portal.uzp.gov.pl/index.php?ogloszenie=browser\")\n",
    "\n",
    "## Po trybie zamówienia będzie iterował cały program, więc trzeba od tego zacząć \n",
    "time.sleep(5)\n",
    "tryb_zamowienia = Select(driver.find_element_by_xpath(\"//select[@name='trybzamowienia']\"))\n",
    "\n",
    "options_tryb_zamowienia = []\n",
    "for option in tryb_zamowienia.options:\n",
    "    if option.get_attribute(\"value\") != '-1':\n",
    "        options_tryb_zamowienia.append(option.get_attribute('value'))\n",
    "\n",
    "## Zdefiniowanie funkcji, które scrapują pożądane dane\n",
    "def scrape_most(tag, type_of_data):\n",
    "    global data\n",
    "    x = driver.find_element_by_xpath(\"//p[b[contains(text(), '{}')]]\".format(tag))\n",
    "    x = str(x.text).split(\":\")\n",
    "    data[type_of_data] = x[1]\n",
    "        \n",
    "def scrape_prices(tag, type_of_data, which):\n",
    "    global data\n",
    "    x = driver.find_element_by_xpath(\"//p[b[contains(text(), '{}')]]\".format(tag))\n",
    "    x = str(x.text).split(\"/\")[which].split(\":\")\n",
    "    x = x[1]\n",
    "    data[type_of_data] = x"
   ]
  },
  {
   "cell_type": "code",
   "execution_count": 82,
   "metadata": {},
   "outputs": [
    {
     "name": "stdout",
     "output_type": "stream",
     "text": [
      "Hi, there is the captcha at the bottom of the page which you have to insert yourself.\n",
      "Without it the program will not start\n",
      "please enter captcha\n"
     ]
    },
    {
     "ename": "StaleElementReferenceException",
     "evalue": "Message: stale element reference: element is not attached to the page document\n  (Session info: chrome=74.0.3729.131)\n  (Driver info: chromedriver=74.0.3729.6 (255758eccf3d244491b8a1317aa76e1ce10d57e9-refs/branch-heads/3729@{#29}),platform=Windows NT 6.1.7601 SP1 x86_64)\n",
     "output_type": "error",
     "traceback": [
      "\u001b[1;31m---------------------------------------------------------------------------\u001b[0m",
      "\u001b[1;31mStaleElementReferenceException\u001b[0m            Traceback (most recent call last)",
      "\u001b[1;32m<ipython-input-82-65a19ad0289d>\u001b[0m in \u001b[0;36m<module>\u001b[1;34m()\u001b[0m\n\u001b[0;32m     72\u001b[0m                 \u001b[0mdriver\u001b[0m\u001b[1;33m.\u001b[0m\u001b[0mswitch_to\u001b[0m\u001b[1;33m.\u001b[0m\u001b[0mwindow\u001b[0m\u001b[1;33m(\u001b[0m\u001b[0mtabs\u001b[0m\u001b[1;33m[\u001b[0m\u001b[1;36m0\u001b[0m\u001b[1;33m]\u001b[0m\u001b[1;33m)\u001b[0m\u001b[1;33m\u001b[0m\u001b[0m\n\u001b[0;32m     73\u001b[0m                 \u001b[1;32mfor\u001b[0m \u001b[0mi\u001b[0m \u001b[1;32min\u001b[0m \u001b[0mdriver\u001b[0m\u001b[1;33m.\u001b[0m\u001b[0mfind_elements_by_xpath\u001b[0m\u001b[1;33m(\u001b[0m\u001b[1;34m\"//a[contains(@href, 'ogloszenie=browser')]\"\u001b[0m\u001b[1;33m)\u001b[0m\u001b[1;33m:\u001b[0m\u001b[1;33m\u001b[0m\u001b[0m\n\u001b[1;32m---> 74\u001b[1;33m                     \u001b[1;32mif\u001b[0m \u001b[1;34m\"nastepne\"\u001b[0m \u001b[1;32min\u001b[0m \u001b[0mi\u001b[0m\u001b[1;33m.\u001b[0m\u001b[0mtext\u001b[0m\u001b[1;33m:\u001b[0m\u001b[1;33m\u001b[0m\u001b[0m\n\u001b[0m\u001b[0;32m     75\u001b[0m                         \u001b[0mi\u001b[0m\u001b[1;33m.\u001b[0m\u001b[0mclick\u001b[0m\u001b[1;33m(\u001b[0m\u001b[1;33m)\u001b[0m\u001b[1;33m\u001b[0m\u001b[0m\n\u001b[0;32m     76\u001b[0m                         \u001b[0mWebDriverWait\u001b[0m\u001b[1;33m(\u001b[0m\u001b[0mdriver\u001b[0m\u001b[1;33m,\u001b[0m \u001b[1;36m300\u001b[0m\u001b[1;33m)\u001b[0m\u001b[1;33m.\u001b[0m\u001b[0muntil\u001b[0m\u001b[1;33m(\u001b[0m\u001b[0mEC\u001b[0m\u001b[1;33m.\u001b[0m\u001b[0mpresence_of_element_located\u001b[0m\u001b[1;33m(\u001b[0m\u001b[1;33m(\u001b[0m\u001b[0mBy\u001b[0m\u001b[1;33m.\u001b[0m\u001b[0mXPATH\u001b[0m\u001b[1;33m,\u001b[0m\u001b[1;34m\"//a[@target='_blank']\"\u001b[0m\u001b[1;33m)\u001b[0m\u001b[1;33m)\u001b[0m\u001b[1;33m)\u001b[0m\u001b[1;33m\u001b[0m\u001b[0m\n",
      "\u001b[1;32m~\\Anaconda31\\lib\\site-packages\\selenium\\webdriver\\remote\\webelement.py\u001b[0m in \u001b[0;36mtext\u001b[1;34m(self)\u001b[0m\n\u001b[0;32m     74\u001b[0m     \u001b[1;32mdef\u001b[0m \u001b[0mtext\u001b[0m\u001b[1;33m(\u001b[0m\u001b[0mself\u001b[0m\u001b[1;33m)\u001b[0m\u001b[1;33m:\u001b[0m\u001b[1;33m\u001b[0m\u001b[0m\n\u001b[0;32m     75\u001b[0m         \u001b[1;34m\"\"\"The text of the element.\"\"\"\u001b[0m\u001b[1;33m\u001b[0m\u001b[0m\n\u001b[1;32m---> 76\u001b[1;33m         \u001b[1;32mreturn\u001b[0m \u001b[0mself\u001b[0m\u001b[1;33m.\u001b[0m\u001b[0m_execute\u001b[0m\u001b[1;33m(\u001b[0m\u001b[0mCommand\u001b[0m\u001b[1;33m.\u001b[0m\u001b[0mGET_ELEMENT_TEXT\u001b[0m\u001b[1;33m)\u001b[0m\u001b[1;33m[\u001b[0m\u001b[1;34m'value'\u001b[0m\u001b[1;33m]\u001b[0m\u001b[1;33m\u001b[0m\u001b[0m\n\u001b[0m\u001b[0;32m     77\u001b[0m \u001b[1;33m\u001b[0m\u001b[0m\n\u001b[0;32m     78\u001b[0m     \u001b[1;32mdef\u001b[0m \u001b[0mclick\u001b[0m\u001b[1;33m(\u001b[0m\u001b[0mself\u001b[0m\u001b[1;33m)\u001b[0m\u001b[1;33m:\u001b[0m\u001b[1;33m\u001b[0m\u001b[0m\n",
      "\u001b[1;32m~\\Anaconda31\\lib\\site-packages\\selenium\\webdriver\\remote\\webelement.py\u001b[0m in \u001b[0;36m_execute\u001b[1;34m(self, command, params)\u001b[0m\n\u001b[0;32m    631\u001b[0m             \u001b[0mparams\u001b[0m \u001b[1;33m=\u001b[0m \u001b[1;33m{\u001b[0m\u001b[1;33m}\u001b[0m\u001b[1;33m\u001b[0m\u001b[0m\n\u001b[0;32m    632\u001b[0m         \u001b[0mparams\u001b[0m\u001b[1;33m[\u001b[0m\u001b[1;34m'id'\u001b[0m\u001b[1;33m]\u001b[0m \u001b[1;33m=\u001b[0m \u001b[0mself\u001b[0m\u001b[1;33m.\u001b[0m\u001b[0m_id\u001b[0m\u001b[1;33m\u001b[0m\u001b[0m\n\u001b[1;32m--> 633\u001b[1;33m         \u001b[1;32mreturn\u001b[0m \u001b[0mself\u001b[0m\u001b[1;33m.\u001b[0m\u001b[0m_parent\u001b[0m\u001b[1;33m.\u001b[0m\u001b[0mexecute\u001b[0m\u001b[1;33m(\u001b[0m\u001b[0mcommand\u001b[0m\u001b[1;33m,\u001b[0m \u001b[0mparams\u001b[0m\u001b[1;33m)\u001b[0m\u001b[1;33m\u001b[0m\u001b[0m\n\u001b[0m\u001b[0;32m    634\u001b[0m \u001b[1;33m\u001b[0m\u001b[0m\n\u001b[0;32m    635\u001b[0m     \u001b[1;32mdef\u001b[0m \u001b[0mfind_element\u001b[0m\u001b[1;33m(\u001b[0m\u001b[0mself\u001b[0m\u001b[1;33m,\u001b[0m \u001b[0mby\u001b[0m\u001b[1;33m=\u001b[0m\u001b[0mBy\u001b[0m\u001b[1;33m.\u001b[0m\u001b[0mID\u001b[0m\u001b[1;33m,\u001b[0m \u001b[0mvalue\u001b[0m\u001b[1;33m=\u001b[0m\u001b[1;32mNone\u001b[0m\u001b[1;33m)\u001b[0m\u001b[1;33m:\u001b[0m\u001b[1;33m\u001b[0m\u001b[0m\n",
      "\u001b[1;32m~\\Anaconda31\\lib\\site-packages\\selenium\\webdriver\\remote\\webdriver.py\u001b[0m in \u001b[0;36mexecute\u001b[1;34m(self, driver_command, params)\u001b[0m\n\u001b[0;32m    319\u001b[0m         \u001b[0mresponse\u001b[0m \u001b[1;33m=\u001b[0m \u001b[0mself\u001b[0m\u001b[1;33m.\u001b[0m\u001b[0mcommand_executor\u001b[0m\u001b[1;33m.\u001b[0m\u001b[0mexecute\u001b[0m\u001b[1;33m(\u001b[0m\u001b[0mdriver_command\u001b[0m\u001b[1;33m,\u001b[0m \u001b[0mparams\u001b[0m\u001b[1;33m)\u001b[0m\u001b[1;33m\u001b[0m\u001b[0m\n\u001b[0;32m    320\u001b[0m         \u001b[1;32mif\u001b[0m \u001b[0mresponse\u001b[0m\u001b[1;33m:\u001b[0m\u001b[1;33m\u001b[0m\u001b[0m\n\u001b[1;32m--> 321\u001b[1;33m             \u001b[0mself\u001b[0m\u001b[1;33m.\u001b[0m\u001b[0merror_handler\u001b[0m\u001b[1;33m.\u001b[0m\u001b[0mcheck_response\u001b[0m\u001b[1;33m(\u001b[0m\u001b[0mresponse\u001b[0m\u001b[1;33m)\u001b[0m\u001b[1;33m\u001b[0m\u001b[0m\n\u001b[0m\u001b[0;32m    322\u001b[0m             response['value'] = self._unwrap_value(\n\u001b[0;32m    323\u001b[0m                 response.get('value', None))\n",
      "\u001b[1;32m~\\Anaconda31\\lib\\site-packages\\selenium\\webdriver\\remote\\errorhandler.py\u001b[0m in \u001b[0;36mcheck_response\u001b[1;34m(self, response)\u001b[0m\n\u001b[0;32m    240\u001b[0m                 \u001b[0malert_text\u001b[0m \u001b[1;33m=\u001b[0m \u001b[0mvalue\u001b[0m\u001b[1;33m[\u001b[0m\u001b[1;34m'alert'\u001b[0m\u001b[1;33m]\u001b[0m\u001b[1;33m.\u001b[0m\u001b[0mget\u001b[0m\u001b[1;33m(\u001b[0m\u001b[1;34m'text'\u001b[0m\u001b[1;33m)\u001b[0m\u001b[1;33m\u001b[0m\u001b[0m\n\u001b[0;32m    241\u001b[0m             \u001b[1;32mraise\u001b[0m \u001b[0mexception_class\u001b[0m\u001b[1;33m(\u001b[0m\u001b[0mmessage\u001b[0m\u001b[1;33m,\u001b[0m \u001b[0mscreen\u001b[0m\u001b[1;33m,\u001b[0m \u001b[0mstacktrace\u001b[0m\u001b[1;33m,\u001b[0m \u001b[0malert_text\u001b[0m\u001b[1;33m)\u001b[0m\u001b[1;33m\u001b[0m\u001b[0m\n\u001b[1;32m--> 242\u001b[1;33m         \u001b[1;32mraise\u001b[0m \u001b[0mexception_class\u001b[0m\u001b[1;33m(\u001b[0m\u001b[0mmessage\u001b[0m\u001b[1;33m,\u001b[0m \u001b[0mscreen\u001b[0m\u001b[1;33m,\u001b[0m \u001b[0mstacktrace\u001b[0m\u001b[1;33m)\u001b[0m\u001b[1;33m\u001b[0m\u001b[0m\n\u001b[0m\u001b[0;32m    243\u001b[0m \u001b[1;33m\u001b[0m\u001b[0m\n\u001b[0;32m    244\u001b[0m     \u001b[1;32mdef\u001b[0m \u001b[0m_value_or_default\u001b[0m\u001b[1;33m(\u001b[0m\u001b[0mself\u001b[0m\u001b[1;33m,\u001b[0m \u001b[0mobj\u001b[0m\u001b[1;33m,\u001b[0m \u001b[0mkey\u001b[0m\u001b[1;33m,\u001b[0m \u001b[0mdefault\u001b[0m\u001b[1;33m)\u001b[0m\u001b[1;33m:\u001b[0m\u001b[1;33m\u001b[0m\u001b[0m\n",
      "\u001b[1;31mStaleElementReferenceException\u001b[0m: Message: stale element reference: element is not attached to the page document\n  (Session info: chrome=74.0.3729.131)\n  (Driver info: chromedriver=74.0.3729.6 (255758eccf3d244491b8a1317aa76e1ce10d57e9-refs/branch-heads/3729@{#29}),platform=Windows NT 6.1.7601 SP1 x86_64)\n"
     ]
    }
   ],
   "source": [
    "# to gówno na końcu całego procesu (czyli przerobieniu wszystkich przetargów będzie i+=1 )\n",
    "###\n",
    "i_tryb_zamowienia = 0\n",
    "\n",
    "while i_tryb_zamowienia < len(options_tryb_zamowienia):\n",
    "\n",
    "\n",
    "    tryb_zamowienia = Select(driver.find_element_by_xpath(\"//select[@name='trybzamowienia']\"))\n",
    "    time.sleep(0.1)\n",
    "    tryb_zamowienia.select_by_value(options_tryb_zamowienia[i_tryb_zamowienia])\n",
    "    time.sleep(0.25)\n",
    "\n",
    "    driver.find_element_by_xpath(\"//input[@name='datapublikacjiod']\").send_keys(\"01/01/2008\")\n",
    "    time.sleep(0.25)\n",
    "    driver.find_element_by_xpath(\"//input[@name='datapublikacjido']\").send_keys(\"31/12/2018\")\n",
    "\n",
    "    # Wybieranie rodzaju zamówienia\n",
    "    rodzaj_zamowienia = Select(driver.find_element_by_xpath(\"//select[@name='rodzajzamowienia']\"))\n",
    "    time.sleep(0.1)\n",
    "    rodzaj_zamowienia.select_by_value(\"B\")\n",
    "\n",
    "    # Wybieranie rodzaju ogłoszenia\n",
    "    rodzaj_ogłoszenia = Select(driver.find_element_by_xpath(\"//select[@name='rodzajogloszenia']\"))\n",
    "    time.sleep(0.1)\n",
    "    rodzaj_ogłoszenia.select_by_value(\"4\")\n",
    "\n",
    "    # Zaznaczanie wszystkich\n",
    "    time.sleep(0.1)\n",
    "    driver.find_element_by_xpath(\"//input[@name = 'aktualne' and @value = '1']\").click()\n",
    "\n",
    "    time.sleep(0.1)\n",
    "\n",
    "    print(\"Hi, there is the captcha at the bottom of the page which you have to insert yourself.\\nWithout it the program will not start\")\n",
    "    captcha = driver.find_element_by_xpath(\"//input[@id='security_code']\")\n",
    "    length_captcha = len(captcha.get_attribute(\"value\"))\n",
    "\n",
    "    ## Program sprawdzający, czy ktoś wpisał captchę\n",
    "    while length_captcha != 5:\n",
    "        print(\"please enter captcha\")\n",
    "        time.sleep(30)\n",
    "        length_captcha = len(captcha.get_attribute(\"value\"))\n",
    "\n",
    "        if length_captcha == 5:\n",
    "            break\n",
    "\n",
    "\n",
    "    driver.find_element_by_xpath(\"//input[@value = 'Szukaj']\").click()\n",
    "\n",
    "\n",
    "    WebDriverWait(driver, 300).until(EC.presence_of_element_located((By.XPATH,\"//a[@target='_blank']\")))\n",
    "\n",
    "\n",
    "    end = 0\n",
    "    while end < 5:\n",
    "        \n",
    "        if end == 5:\n",
    "            break\n",
    "    # ten kod otwiera wszystkie przetargi na stronie w nowych tabsach\n",
    "        for i in driver.find_elements_by_xpath(\"//a[@target='_blank']\"):\n",
    "            i.click()\n",
    "            time.sleep(2)\n",
    "\n",
    "        tabs = list(driver.window_handles)\n",
    "\n",
    "\n",
    "        # Scrapowanie csv z kazdego z otwartych tabsów\n",
    "        while len(tabs) > 1:\n",
    "            tabs = list(driver.window_handles)\n",
    "\n",
    "            ## Going to next page when all tabs where scraped\n",
    "            if len(tabs) == 1:\n",
    "                driver.switch_to.window(tabs[0])\n",
    "                for i in driver.find_elements_by_xpath(\"//a[contains(@href, 'ogloszenie=browser')]\"):\n",
    "                    if \"nastepne\" in i.text:\n",
    "                        i.click()\n",
    "                        WebDriverWait(driver, 300).until(EC.presence_of_element_located((By.XPATH,\"//a[@target='_blank']\")))\n",
    "                    else:\n",
    "                        end += 1\n",
    "                        if end == 5:\n",
    "                            i_tryb_zamowienia += 1\n",
    "                            driver.find_element_by_xpath(\"//a[contains(@href, 'ogloszenie=browser')]\").click()\n",
    "                            time.sleep(10)\n",
    "                break\n",
    "                        \n",
    "                \n",
    "\n",
    "            data = {}\n",
    "\n",
    "            time.sleep(0.2)\n",
    "            driver.switch_to.window(tabs[1])\n",
    "\n",
    "            time.sleep(0.2)\n",
    "            numer_zamowienia = (str(driver.find_element_by_xpath(\"//b[contains(text(), 'Numer ogłoszenia')]\").text).split(\";\")[0]).split(\":\")\n",
    "            data[numer_zamowienia[0]] = numer_zamowienia[1]\n",
    "\n",
    "            time.sleep(0.1)\n",
    "            nazwa_zamawiajacego = driver.find_element_by_xpath(\"//p[b[contains(text(), 'NAZWA I ADRES')]]\")\n",
    "            nazwa_zamawiajacego = str(nazwa_zamawiajacego.text).split(\":\")\n",
    "            data[\"nazwa zamawiającego\"] = ((nazwa_zamawiajacego[1]).split(\",\"))[0]\n",
    "\n",
    "            scrape_most(\"Rodzaj zamówienia\", \"Rodzaj zamówienia\")\n",
    "            scrape_most(\"Wspólny Słownik Zamówień\", \"cpv\")\n",
    "            scrape_most(\"TRYB UDZIELENIA ZAMÓWIENIA\",\"Tryb udzielenia zamówienia\")\n",
    "            scrape_most(\"Szacunkowa wartość zamówienia\", \"Całkowita wartość zamówienia bez vat\")\n",
    "            scrape_most(\"LICZBA OTRZYMANYCH OFERT\", \"Liczba otrzymanych ofert\")\n",
    "            scrape_most(\"Cena wybranej oferty\", \"Cena wybranej oferty\")\n",
    "            scrape_prices(\"Oferta z najniższą ceną\", \"Oferta z najniższą ceną\", 0)\n",
    "            scrape_prices(\"Oferta z najwyższą ceną\", \"Oferta z najwyższą ceną \",1)\n",
    "\n",
    "            wykonawcy = driver.find_element_by_xpath(\"//b[contains(text(), 'NAZWA I ADRES WYKONAWCY')]/following::li\")\n",
    "            data[\"wykonawcy\"] = wykonawcy.text\n",
    "\n",
    "            with open(\"file_{}.csv\".format(options_tryb_zamowienia[i_tryb_zamowienia]), 'a', newline= '') as file:\n",
    "                w = csv.DictWriter(file, data.keys())\n",
    "\n",
    "                if file.tell() == 0:\n",
    "                    w.writeheader()\n",
    "\n",
    "                w.writerow(data)\n",
    "\n",
    "            time.sleep(0.5)\n",
    "            driver.close()"
   ]
  },
  {
   "cell_type": "code",
   "execution_count": 80,
   "metadata": {},
   "outputs": [
    {
     "data": {
      "text/plain": [
       "5"
      ]
     },
     "execution_count": 80,
     "metadata": {},
     "output_type": "execute_result"
    }
   ],
   "source": [
    "end"
   ]
  },
  {
   "cell_type": "code",
   "execution_count": 23,
   "metadata": {},
   "outputs": [],
   "source": [
    "xd = driver.page_source"
   ]
  },
  {
   "cell_type": "code",
   "execution_count": 55,
   "metadata": {},
   "outputs": [
    {
     "data": {
      "text/plain": [
       "'Przeglądaj BZP'"
      ]
     },
     "execution_count": 55,
     "metadata": {},
     "output_type": "execute_result"
    }
   ],
   "source": []
  },
  {
   "cell_type": "code",
   "execution_count": 58,
   "metadata": {},
   "outputs": [],
   "source": [
    "for i in driver.find_elements_by_xpath(\"//a[contains(@href, 'ogloszenie=browser')]\"):\n",
    "    if \"nastepne\" in i.text:\n",
    "        i.click()"
   ]
  },
  {
   "cell_type": "code",
   "execution_count": 115,
   "metadata": {},
   "outputs": [],
   "source": [
    "for i in driver.find_elements_by_xpath(\"//a[@target='_blank']\"):\n",
    "    i.click()\n",
    "    time.sleep(2)\n",
    "\n",
    "tabs = list(driver.window_handles)\n"
   ]
  },
  {
   "cell_type": "code",
   "execution_count": 5,
   "metadata": {},
   "outputs": [],
   "source": [
    "while len(tabs) > 1:\n",
    "    tabs = list(driver.window_handles)\n",
    "    \n",
    "    if len(tabs) == 1:\n",
    "        break\n",
    "    \n",
    "    data = {}\n",
    "    \n",
    "    def scrape_most(tag, type_of_data):\n",
    "        global data\n",
    "        x = driver.find_element_by_xpath(\"//p[b[contains(text(), '{}')]]\".format(tag))\n",
    "        x = str(x.text).split(\":\")\n",
    "        data[type_of_data] = x[1]\n",
    "        \n",
    "    def scrape_prices(tag, type_of_data, which):\n",
    "        global data\n",
    "        x = driver.find_element_by_xpath(\"//p[b[contains(text(), '{}')]]\".format(tag))\n",
    "        x = str(x.text).split(\"/\")[which].split(\":\")\n",
    "        x = x[1]\n",
    "        data[type_of_data] = x\n",
    "    \n",
    "    time.sleep(0.2)\n",
    "    driver.switch_to.window(tabs[1])\n",
    "    \n",
    "    time.sleep(0.2)\n",
    "    numer_zamowienia = (str(driver.find_element_by_xpath(\"//b[contains(text(), 'Numer ogłoszenia')]\").text).split(\";\")[0]).split(\":\")\n",
    "    data[numer_zamowienia[0]] = numer_zamowienia[1]\n",
    "    \n",
    "    time.sleep(0.1)\n",
    "    nazwa_zamawiajacego = driver.find_element_by_xpath(\"//p[b[contains(text(), 'NAZWA I ADRES')]]\")\n",
    "    nazwa_zamawiajacego = str(nazwa_zamawiajacego.text).split(\":\")\n",
    "    data[\"nazwa zamawiającego\"] = ((nazwa_zamawiajacego[1]).split(\",\"))[0]\n",
    "    \n",
    "    scrape_most(\"Rodzaj zamówienia\", \"Rodzaj zamówienia\")\n",
    "    scrape_most(\"Wspólny Słownik Zamówień\", \"cpv\")\n",
    "    scrape_most(\"TRYB UDZIELENIA ZAMÓWIENIA\",\"Tryb udzielenia zamówienia\")\n",
    "    scrape_most(\"Szacunkowa wartość zamówienia\", \"Całkowita wartość zamówienia bez vat\")\n",
    "    scrape_most(\"LICZBA OTRZYMANYCH OFERT\", \"Liczba otrzymanych ofert\")\n",
    "    scrape_most(\"Cena wybranej oferty\", \"Cena wybranej oferty\")\n",
    "    scrape_prices(\"Oferta z najniższą ceną\", \"Oferta z najniższą ceną\", 0)\n",
    "    scrape_prices(\"Oferta z najwyższą ceną\", \"Oferta z najwyższą ceną \",1)\n",
    "    \n",
    "    wykonawcy = driver.find_element_by_xpath(\"//b[contains(text(), 'NAZWA I ADRES WYKONAWCY')]/following::li\")\n",
    "    data[\"wykonawcy\"] = wykonawcy.text\n",
    "    \n",
    "    with open(\"file.csv\", 'a', newline= '') as file:\n",
    "        w = csv.DictWriter(file, data.keys())\n",
    "        \n",
    "        if file.tell() == 0:\n",
    "            w.writeheader()\n",
    "\n",
    "        w.writerow(data)\n",
    "    \n",
    "    time.sleep(0.5)\n",
    "    driver.close()"
   ]
  },
  {
   "cell_type": "code",
   "execution_count": 33,
   "metadata": {},
   "outputs": [],
   "source": [
    "def scrape_most(tag, type_of_data):\n",
    "        global data\n",
    "        x = driver.find_element_by_xpath(\"//p[b[contains(text(), '{}')]]\".format(tag))\n",
    "        x = str(x.text).split(\":\")\n",
    "        data[type_of_data] = x[1]\n",
    "    \n",
    "def scrape_prices(tag, type_of_data, which):\n",
    "    global data\n",
    "    x = driver.find_element_by_xpath(\"//p[b[contains(text(), '{}')]]\".format(tag))\n",
    "    x = str(x.text).split(\"/\")[which].split(\":\")\n",
    "    x = x[1]\n",
    "    data[type_of_data] = x\n",
    "    \n",
    "driver.switch_to.window(tabs[1])"
   ]
  },
  {
   "cell_type": "code",
   "execution_count": 15,
   "metadata": {},
   "outputs": [],
   "source": [
    "data = {}"
   ]
  },
  {
   "cell_type": "code",
   "execution_count": 30,
   "metadata": {},
   "outputs": [],
   "source": [
    "# Scrapowanie numeru ogłoszenia \n",
    "numer_zamowienia = (str(driver.find_element_by_xpath(\"//b[contains(text(), 'Numer ogłoszenia')]\").text).split(\";\")[0]).split(\":\")\n",
    "data[numer_zamowienia[0]] = numer_zamowienia[1]"
   ]
  },
  {
   "cell_type": "code",
   "execution_count": 32,
   "metadata": {},
   "outputs": [],
   "source": [
    "# Scrapowanie nazwy zamawiającego\n",
    "nazwa_zamawiajacego = driver.find_element_by_xpath(\"//p[b[contains(text(), 'NAZWA I ADRES')]]\")\n",
    "nazwa_zamawiajacego = str(nazwa_zamawiajacego.text).split(\":\")\n",
    "data[\"nazwa zamawiającego\"] = ((nazwa_zamawiajacego[1]).split(\",\"))[0]"
   ]
  },
  {
   "cell_type": "code",
   "execution_count": 33,
   "metadata": {},
   "outputs": [],
   "source": [
    "# Rodzaj zamówienia\n",
    "scrape_most(\"Rodzaj zamówienia\", \"Rodzaj zamówienia\")"
   ]
  },
  {
   "cell_type": "code",
   "execution_count": 34,
   "metadata": {},
   "outputs": [],
   "source": [
    "#CPV\n",
    "scrape_most(\"Wspólny Słownik Zamówień\", \"cpv\")"
   ]
  },
  {
   "cell_type": "code",
   "execution_count": 35,
   "metadata": {},
   "outputs": [],
   "source": [
    "#Tryb udzielenia zamówienia\n",
    "scrape_most(\"TRYB UDZIELENIA ZAMÓWIENIA\",\"Tryb udzielenia zamówienia\")"
   ]
  },
  {
   "cell_type": "code",
   "execution_count": 36,
   "metadata": {},
   "outputs": [],
   "source": [
    "# Całkowita (szacunkowa wartość zamówień)\n",
    "scrape_most(\"Szacunkowa wartość zamówienia\", \"Całkowita wartość zamówienia bez vat\")"
   ]
  },
  {
   "cell_type": "code",
   "execution_count": 37,
   "metadata": {},
   "outputs": [],
   "source": [
    "scrape_most(\"LICZBA OTRZYMANYCH OFERT\", \"Liczba otrzymanych ofert\")"
   ]
  },
  {
   "cell_type": "code",
   "execution_count": 38,
   "metadata": {},
   "outputs": [],
   "source": [
    "scrape_most(\"Cena wybranej oferty\", \"Cena wybranej oferty\")"
   ]
  },
  {
   "cell_type": "code",
   "execution_count": 34,
   "metadata": {
    "scrolled": true
   },
   "outputs": [],
   "source": [
    "scrape_prices(\"Oferta z najniższą ceną\", \"Oferta z najniższą ceną\", 0)"
   ]
  },
  {
   "cell_type": "code",
   "execution_count": 36,
   "metadata": {
    "scrolled": true
   },
   "outputs": [],
   "source": [
    "scrape_prices(\"najwyższą ceną\", \"Oferta z najwyższą ceną \",1)"
   ]
  },
  {
   "cell_type": "code",
   "execution_count": 41,
   "metadata": {},
   "outputs": [],
   "source": [
    "# wykonawcy\n",
    "wykonawcy = driver.find_element_by_xpath(\"//b[contains(text(), 'NAZWA I ADRES WYKONAWCY')]/following::li\")\n",
    "data[\"wykonawcy\"] = wykonawcy.text"
   ]
  },
  {
   "cell_type": "code",
   "execution_count": 110,
   "metadata": {},
   "outputs": [],
   "source": [
    "with open(\"file.csv\", 'a', newline= '') as file:\n",
    "        w = csv.DictWriter(file, data.keys())\n",
    "        \n",
    "        if file.tell() == 0:\n",
    "            w.writeheader()\n",
    "\n",
    "        w.writerow(data)"
   ]
  },
  {
   "cell_type": "code",
   "execution_count": 23,
   "metadata": {},
   "outputs": [
    {
     "ename": "IndexError",
     "evalue": "list index out of range",
     "output_type": "error",
     "traceback": [
      "\u001b[1;31m---------------------------------------------------------------------------\u001b[0m",
      "\u001b[1;31mIndexError\u001b[0m                                Traceback (most recent call last)",
      "\u001b[1;32m<ipython-input-23-a82bf04104fd>\u001b[0m in \u001b[0;36m<module>\u001b[1;34m()\u001b[0m\n\u001b[0;32m      1\u001b[0m \u001b[1;32mwhile\u001b[0m \u001b[0mlen\u001b[0m\u001b[1;33m(\u001b[0m\u001b[0mtabs\u001b[0m\u001b[1;33m)\u001b[0m \u001b[1;33m>\u001b[0m \u001b[1;36m1\u001b[0m\u001b[1;33m:\u001b[0m\u001b[1;33m\u001b[0m\u001b[0m\n\u001b[0;32m      2\u001b[0m     \u001b[0mtabs\u001b[0m \u001b[1;33m=\u001b[0m \u001b[0mlist\u001b[0m\u001b[1;33m(\u001b[0m\u001b[0mdriver\u001b[0m\u001b[1;33m.\u001b[0m\u001b[0mwindow_handles\u001b[0m\u001b[1;33m)\u001b[0m\u001b[1;33m\u001b[0m\u001b[0m\n\u001b[1;32m----> 3\u001b[1;33m     \u001b[0mdriver\u001b[0m\u001b[1;33m.\u001b[0m\u001b[0mswitch_to\u001b[0m\u001b[1;33m.\u001b[0m\u001b[0mwindow\u001b[0m\u001b[1;33m(\u001b[0m\u001b[0mtabs\u001b[0m\u001b[1;33m[\u001b[0m\u001b[1;36m1\u001b[0m\u001b[1;33m]\u001b[0m\u001b[1;33m)\u001b[0m\u001b[1;33m\u001b[0m\u001b[0m\n\u001b[0m\u001b[0;32m      4\u001b[0m     \u001b[0mtime\u001b[0m\u001b[1;33m.\u001b[0m\u001b[0msleep\u001b[0m\u001b[1;33m(\u001b[0m\u001b[1;36m0.5\u001b[0m\u001b[1;33m)\u001b[0m\u001b[1;33m\u001b[0m\u001b[0m\n\u001b[0;32m      5\u001b[0m     \u001b[0mdriver\u001b[0m\u001b[1;33m.\u001b[0m\u001b[0mclose\u001b[0m\u001b[1;33m(\u001b[0m\u001b[1;33m)\u001b[0m\u001b[1;33m\u001b[0m\u001b[0m\n",
      "\u001b[1;31mIndexError\u001b[0m: list index out of range"
     ]
    }
   ],
   "source": [
    "#ten kod sczytuje z danego tabsa dane i zamyka tabsa\n",
    "\n",
    "tabs = list(driver.window_handles)\n",
    "driver.switch_to.window(tabs[1])\n",
    "\n",
    "time.sleep(0.5)\n",
    "driver.close()"
   ]
  },
  {
   "cell_type": "code",
   "execution_count": null,
   "metadata": {},
   "outputs": [],
   "source": []
  }
 ],
 "metadata": {
  "kernelspec": {
   "display_name": "Python 3",
   "language": "python",
   "name": "python3"
  },
  "language_info": {
   "codemirror_mode": {
    "name": "ipython",
    "version": 3
   },
   "file_extension": ".py",
   "mimetype": "text/x-python",
   "name": "python",
   "nbconvert_exporter": "python",
   "pygments_lexer": "ipython3",
   "version": "3.7.0"
  }
 },
 "nbformat": 4,
 "nbformat_minor": 2
}
